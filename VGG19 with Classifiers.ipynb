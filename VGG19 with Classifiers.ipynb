{
 "cells": [
  {
   "cell_type": "code",
   "execution_count": 19,
   "metadata": {},
   "outputs": [],
   "source": [
    "from keras.preprocessing import image\n",
    "# Transfer Learning Models\n",
    "from keras.applications.resnet50 import ResNet50\n",
    "from keras.applications.resnet import ResNet101, ResNet152\n",
    "\n",
    "from keras.applications.vgg16 import VGG16\n",
    "from keras.applications.vgg19 import VGG19\n",
    "from keras.applications.inception_v3 import InceptionV3\n",
    "from keras.applications.xception import Xception\n",
    "from keras.applications.inception_resnet_v2 import InceptionResNetV2\n",
    "from keras.applications.mobilenet import MobileNet \n",
    "from keras.applications.mobilenet_v2 import MobileNetV2\n",
    "from keras.applications.densenet import DenseNet121, DenseNet169, DenseNet201\n",
    "from keras.applications.nasnet import NASNetLarge, NASNetMobile\n",
    "from keras.preprocessing.image import ImageDataGenerator\n",
    "\n",
    "# Layers\n",
    "from keras.layers import Dense, Activation, Flatten, Dropout\n",
    "from keras import backend as K\n",
    "\n",
    "import pandas as pd\n",
    "# Other\n",
    "from keras import optimizers\n",
    "from keras import losses\n",
    "from keras.optimizers import SGD, Adam\n",
    "from keras.models import Sequential, Model\n",
    "from keras.callbacks import ModelCheckpoint, LearningRateScheduler\n",
    "\n",
    "import keras\n",
    "from keras.models import Sequential\n",
    "from keras.layers import Dense, Activation, Dropout, Flatten\n",
    "from keras.layers import Conv2D\n",
    "from keras.layers import MaxPooling2D,MaxPool2D , GlobalAveragePooling2D , AveragePooling2D , BatchNormalization\n",
    "\n",
    "# Utils\n",
    "from sklearn.model_selection import train_test_split\n",
    "from sklearn.utils import shuffle\n",
    "from sklearn.metrics import cohen_kappa_score , matthews_corrcoef , classification_report , roc_auc_score , accuracy_score\n",
    "from sklearn.metrics import confusion_matrix\n",
    "import sklearn.metrics as metrics\n",
    "import matplotlib.pyplot as plt\n",
    "import seaborn as sns\n",
    "import numpy as np\n",
    "import argparse\n",
    "import random, glob\n",
    "import os, sys, csv\n",
    "import cv2\n",
    "import time, datetime\n",
    "from sklearn.neighbors import KNeighborsClassifier"
   ]
  },
  {
   "cell_type": "code",
   "execution_count": 3,
   "metadata": {},
   "outputs": [],
   "source": [
    "directory_1 = r\"C:\\Users\\Abinaya Ravichandran\\Desktop\\Fall 2020\\ECE613\\Research Project\\Detecting_Covid19_CT_Scan\\COVID\"\n",
    "directory_2 = r\"C:\\Users\\Abinaya Ravichandran\\Desktop\\Fall 2020\\ECE613\\Research Project\\Detecting_Covid19_CT_Scan\\NORMAL\"\n",
    "\n",
    "x_ = list()\n",
    "y = list()\n",
    "IMG_SIZE = 224\n",
    "c = 0\n",
    "nc = 0\n",
    "\n",
    "\"COVID Dataset\"\n",
    "for filename in os.listdir(directory_1):\n",
    "    if filename.endswith(\".png\") or filename.endswith(\".jpg\"):\n",
    "#       print(os.path.join(directory, filename))\n",
    "        try:\n",
    "            path = os.path.join(directory_1, filename)\n",
    "            img = cv2.imread(path)\n",
    "            img_ = cv2.resize(img,(IMG_SIZE,IMG_SIZE))\n",
    "            img_arr = np.asarray(img_)\n",
    "            x_.append(img_arr)\n",
    "            label = 0\n",
    "            c = c+1\n",
    "        except:\n",
    "            None\n",
    "\n",
    "\"NORMAL Dataset\"\n",
    "for filename in os.listdir(directory_2):\n",
    "    if filename.endswith(\".png\") or filename.endswith(\".jpg\"):\n",
    "#       print(os.path.join(directory, filename))\n",
    "        try:\n",
    "            path = os.path.join(directory_2, filename)\n",
    "            img = cv2.imread(path)\n",
    "            img_ = cv2.resize(img,(IMG_SIZE,IMG_SIZE))\n",
    "            img_arr = np.asarray(img_)\n",
    "            x_.append(img_arr)\n",
    "            label = 1\n",
    "            nc = nc+1\n",
    "        except:\n",
    "            None"
   ]
  },
  {
   "cell_type": "code",
   "execution_count": 6,
   "metadata": {},
   "outputs": [
    {
     "name": "stdout",
     "output_type": "stream",
     "text": [
      "(700, 224, 224, 3)\n"
     ]
    }
   ],
   "source": [
    "x1=[]\n",
    "from keras.preprocessing import image\n",
    "for item in x_:\n",
    "      if len(item.shape) > 2 and item.shape[2] == 4:\n",
    "            item = cv2.cvtColor(item, cv2.COLOR_BGRA2BGR)\n",
    "      x1.append(item)\n",
    "Y = []\n",
    "for i in range(350):\n",
    "    Y.append(1)\n",
    "\n",
    "for i in range(350):\n",
    "    Y.append(0)\n",
    "X = np.asarray(x1)\n",
    "y = np.asarray(Y)\n",
    "print(X.shape)"
   ]
  },
  {
   "cell_type": "code",
   "execution_count": 7,
   "metadata": {},
   "outputs": [],
   "source": [
    "X_train, x_test, y_train, y_test = train_test_split(X , y , test_size=0.10 , random_state=42)\n",
    "X_train, x_val, y_train, y_val = train_test_split(X_train , y_train, test_size=0.10 , random_state=42)"
   ]
  },
  {
   "cell_type": "markdown",
   "metadata": {
    "colab_type": "text",
    "id": "KmxUZrtsqv-O"
   },
   "source": [
    "### **Function for Performance Analysis**"
   ]
  },
  {
   "cell_type": "code",
   "execution_count": 23,
   "metadata": {},
   "outputs": [],
   "source": [
    "def print_performance_metrics(y_test, max_y_pred_test):\n",
    "    print('Test Accuracy:', np.round(metrics.accuracy_score(y_test, max_y_pred_test),4))\n",
    "    print('Precision:', np.round(metrics.precision_score(y_test, max_y_pred_test,average='weighted'),4))\n",
    "    print('Recall:', np.round(metrics.recall_score(y_test, max_y_pred_test , average='weighted'),4))\n",
    "    print('F1 Score:', np.round(metrics.f1_score(y_test, max_y_pred_test, average='weighted'),4))\n",
    "    print('ROC AUC:',roc_auc_score(y_test,max_y_pred_test))\n",
    "    print(classification_report(y_test,max_y_pred_test))\n",
    "\n",
    "def print_confusion_matrix(y, y_pred):\n",
    "    \n",
    "    matrix = confusion_matrix(y_pred, y)\n",
    "    plt.figure(figsize=(6, 4))\n",
    "    ax = sns.heatmap(matrix,cmap='Blues',linecolor='white',linewidths=1,annot=True,fmt='d')\n",
    "    ax.set_ylim(sorted(ax.get_xlim(), reverse=True))\n",
    "    plt.title('Confusion Matrix')\n",
    "    plt.ylabel('True Label')\n",
    "    plt.xlabel('Predicted Label')\n",
    "    plt.show()\n"
   ]
  },
  {
   "cell_type": "markdown",
   "metadata": {
    "colab_type": "text",
    "id": "UBnUbUCLxtu-"
   },
   "source": [
    "### **VGG-19 Model**"
   ]
  },
  {
   "cell_type": "code",
   "execution_count": 11,
   "metadata": {},
   "outputs": [],
   "source": [
    "baseModel = VGG19(weights=\"imagenet\", include_top=False,input_shape=(224, 224, 3))\n",
    "headModel = baseModel.output\n",
    "headModel = AveragePooling2D(pool_size=(4, 4))(headModel)\n",
    "headModel = Flatten(name=\"flatten\")(headModel)\n",
    "headModel = Dense(128, activation=\"relu\")(headModel)\n",
    "predictions = Dense(2, activation='sigmoid')(headModel)\n",
    "\n",
    "model_feat = Model(inputs=baseModel.input, outputs=predictions)"
   ]
  },
  {
   "cell_type": "markdown",
   "metadata": {},
   "source": [
    "#### KNN Classifier"
   ]
  },
  {
   "cell_type": "code",
   "execution_count": 12,
   "metadata": {
    "colab": {
     "base_uri": "https://localhost:8080/",
     "height": 68
    },
    "colab_type": "code",
    "id": "vciJvj36JGo-",
    "outputId": "19f0af7a-660d-4480-a80d-2643fe036c85"
   },
   "outputs": [
    {
     "data": {
      "text/plain": [
       "KNeighborsClassifier(algorithm='auto', leaf_size=30, metric='minkowski',\n",
       "                     metric_params=None, n_jobs=None, n_neighbors=5, p=2,\n",
       "                     weights='uniform')"
      ]
     },
     "execution_count": 12,
     "metadata": {},
     "output_type": "execute_result"
    }
   ],
   "source": [
    "feat_train = model_feat.predict(X_train)\n",
    "feat_test = model_feat.predict(x_test)\n",
    "feat_val = model_feat.predict(x_val)\n",
    "model = KNeighborsClassifier(n_neighbors = 5 , metric = 'minkowski' , p=2)\n",
    "model.fit(feat_train , y_train)"
   ]
  },
  {
   "cell_type": "code",
   "execution_count": 24,
   "metadata": {
    "colab": {
     "base_uri": "https://localhost:8080/",
     "height": 624
    },
    "colab_type": "code",
    "id": "gS5l3cqjfqE4",
    "outputId": "5fcbe276-e6ab-438a-e0d4-39d506a020d2"
   },
   "outputs": [
    {
     "name": "stdout",
     "output_type": "stream",
     "text": [
      "Accuracy (Train): 0.7108\n",
      "Accuracy (Val): 0.4444\n"
     ]
    },
    {
     "data": {
      "image/png": "[encoded data removed]",
      "text/plain": [
       "<Figure size 432x288 with 2 Axes>"
      ]
     },
     "metadata": {
      "needs_background": "light"
     },
     "output_type": "display_data"
    },
    {
     "name": "stdout",
     "output_type": "stream",
     "text": [
      "Test Accuracy: 0.5857\n",
      "Precision: 0.5894\n",
      "Recall: 0.5857\n",
      "F1 Score: 0.5865\n",
      "ROC AUC: 0.5863486842105263\n",
      "              precision    recall  f1-score   support\n",
      "\n",
      "           0       0.54      0.59      0.57        32\n",
      "           1       0.63      0.58      0.60        38\n",
      "\n",
      "    accuracy                           0.59        70\n",
      "   macro avg       0.59      0.59      0.58        70\n",
      "weighted avg       0.59      0.59      0.59        70\n",
      "\n"
     ]
    }
   ],
   "source": [
    "y_pred_train = model.predict(feat_train)\n",
    "y_pred_test = model.predict(feat_test)\n",
    "y_pred_val = model.predict(feat_val)\n",
    "max_y_pred_train = np.round(y_pred_train)\n",
    "max_y_pred_test = np.round(y_pred_test)\n",
    "max_y_pred_val = np.round(y_pred_val)\n",
    "\n",
    "print('Accuracy (Train):' , np.round(metrics.accuracy_score(y_train, max_y_pred_train),4))\n",
    "print('Accuracy (Val):', np.round(metrics.accuracy_score(y_val, max_y_pred_val),4) )\n",
    "print_confusion_matrix(y_test,max_y_pred_test)\n",
    "print_performance_metrics(y_test,max_y_pred_test)"
   ]
  },
  {
   "cell_type": "markdown",
   "metadata": {
    "colab_type": "text",
    "id": "svfLp5N_4xJB"
   },
   "source": [
    "### **ANN Classifier**"
   ]
  },
  {
   "cell_type": "code",
   "execution_count": 25,
   "metadata": {
    "colab": {
     "base_uri": "https://localhost:8080/",
     "height": 51
    },
    "colab_type": "code",
    "id": "oxdM7k8W0TbG",
    "outputId": "96d05f98-56fa-4282-d98a-528d749518b9"
   },
   "outputs": [
    {
     "name": "stdout",
     "output_type": "stream",
     "text": [
      "Epoch 1/1\n",
      "567/567 [==============================] - 0s 186us/step - loss: 0.7140 - accuracy: 0.4832\n"
     ]
    },
    {
     "data": {
      "text/plain": [
       "<keras.callbacks.callbacks.History at 0x1bc10779d48>"
      ]
     },
     "execution_count": 25,
     "metadata": {},
     "output_type": "execute_result"
    }
   ],
   "source": [
    "feat_train = model_feat.predict(X_train)\n",
    "feat_test = model_feat.predict(x_test)\n",
    "feat_val = model_feat.predict(x_val)\n",
    "model = Sequential()\n",
    "model.add(Dense(5 , activation = 'relu'))\n",
    "model.add(Dense(5 , activation = 'relu'))\n",
    "model.add(Dense(1, activation = 'sigmoid'))\n",
    "\n",
    "model.compile(optimizer = 'adam' , loss = 'binary_crossentropy' , metrics =['accuracy'])\n",
    "model.fit(feat_train , y_train)"
   ]
  },
  {
   "cell_type": "code",
   "execution_count": 26,
   "metadata": {
    "colab": {
     "base_uri": "https://localhost:8080/",
     "height": 624
    },
    "colab_type": "code",
    "id": "6ziUGSfy43kR",
    "outputId": "96e82506-62a3-4a2a-fb19-97009ffe5ee7"
   },
   "outputs": [
    {
     "name": "stdout",
     "output_type": "stream",
     "text": [
      "Training Accuracy : 0.4797\n",
      "Validation Accuracy : 0.5873\n"
     ]
    },
    {
     "data": {
      "image/png": "[encoded data removed]",
      "text/plain": [
       "<Figure size 432x288 with 2 Axes>"
      ]
     },
     "metadata": {
      "needs_background": "light"
     },
     "output_type": "display_data"
    },
    {
     "name": "stdout",
     "output_type": "stream",
     "text": [
      "Test Accuracy: 0.5571\n",
      "Precision: 0.6045\n",
      "Recall: 0.5571\n",
      "F1 Score: 0.4348\n",
      "ROC AUC: 0.518092105263158\n",
      "              precision    recall  f1-score   support\n",
      "\n",
      "           0       0.67      0.06      0.11        32\n",
      "           1       0.55      0.97      0.70        38\n",
      "\n",
      "    accuracy                           0.56        70\n",
      "   macro avg       0.61      0.52      0.41        70\n",
      "weighted avg       0.60      0.56      0.43        70\n",
      "\n"
     ]
    }
   ],
   "source": [
    "y_pred_train = model.predict(feat_train)\n",
    "y_pred_test = model.predict(feat_test)\n",
    "y_pred_val = model.predict(feat_val)\n",
    "max_y_pred_train = np.round(y_pred_train)\n",
    "max_y_pred_test = np.round(y_pred_test)\n",
    "max_y_pred_val = np.round(y_pred_val)\n",
    "\n",
    "print('Training Accuracy :' , np.round(metrics.accuracy_score(y_train, max_y_pred_train),4))\n",
    "print('Validation Accuracy :', np.round(metrics.accuracy_score(y_val, max_y_pred_val),4) )\n",
    "print_confusion_matrix(y_test,max_y_pred_test)\n",
    "print_performance_metrics(y_test,max_y_pred_test)"
   ]
  },
  {
   "cell_type": "markdown",
   "metadata": {
    "colab_type": "text",
    "id": "wTadMaCKz43D"
   },
   "source": [
    "### **Decision Tree Classifier**"
   ]
  },
  {
   "cell_type": "code",
   "execution_count": 27,
   "metadata": {
    "colab": {
     "base_uri": "https://localhost:8080/",
     "height": 119
    },
    "colab_type": "code",
    "id": "srYUBVadRDh3",
    "outputId": "df8b7d34-33ae-4ad2-c20a-1166ed5ff377"
   },
   "outputs": [
    {
     "data": {
      "text/plain": [
       "DecisionTreeClassifier(class_weight=None, criterion='gini', max_depth=None,\n",
       "                       max_features=None, max_leaf_nodes=None,\n",
       "                       min_impurity_decrease=0.0, min_impurity_split=None,\n",
       "                       min_samples_leaf=1, min_samples_split=2,\n",
       "                       min_weight_fraction_leaf=0.0, presort=False,\n",
       "                       random_state=None, splitter='best')"
      ]
     },
     "execution_count": 27,
     "metadata": {},
     "output_type": "execute_result"
    }
   ],
   "source": [
    "from sklearn.tree import DecisionTreeClassifier\n",
    "model = DecisionTreeClassifier()\n",
    "feat_train = model_feat.predict(X_train)\n",
    "feat_test = model_feat.predict(x_test)\n",
    "feat_val = model_feat.predict(x_val)\n",
    "model.fit(feat_train , y_train)"
   ]
  },
  {
   "cell_type": "code",
   "execution_count": 28,
   "metadata": {
    "colab": {
     "base_uri": "https://localhost:8080/",
     "height": 624
    },
    "colab_type": "code",
    "id": "XFNdexJn2dzq",
    "outputId": "cb9153b7-009b-4017-f1d2-17cbca239dcf"
   },
   "outputs": [
    {
     "name": "stdout",
     "output_type": "stream",
     "text": [
      "Training Accuracy : 0.9947\n",
      "Validation Accuracy : 0.4762\n"
     ]
    },
    {
     "data": {
      "image/png": "[encoded data removed]",
      "text/plain": [
       "<Figure size 432x288 with 2 Axes>"
      ]
     },
     "metadata": {
      "needs_background": "light"
     },
     "output_type": "display_data"
    },
    {
     "name": "stdout",
     "output_type": "stream",
     "text": [
      "Test Accuracy: 0.5286\n",
      "Precision: 0.5298\n",
      "Recall: 0.5286\n",
      "F1 Score: 0.5291\n",
      "ROC AUC: 0.5263157894736843\n",
      "              precision    recall  f1-score   support\n",
      "\n",
      "           0       0.48      0.50      0.49        32\n",
      "           1       0.57      0.55      0.56        38\n",
      "\n",
      "    accuracy                           0.53        70\n",
      "   macro avg       0.53      0.53      0.53        70\n",
      "weighted avg       0.53      0.53      0.53        70\n",
      "\n"
     ]
    }
   ],
   "source": [
    "y_pred_train = model.predict(feat_train)\n",
    "y_pred_test = model.predict(feat_test)\n",
    "y_pred_val = model.predict(feat_val)\n",
    "max_y_pred_train = np.round(y_pred_train)\n",
    "max_y_pred_test = np.round(y_pred_test)\n",
    "max_y_pred_val = np.round(y_pred_val)\n",
    "\n",
    "print('Training Accuracy :' , np.round(metrics.accuracy_score(y_train, max_y_pred_train),4))\n",
    "print('Validation Accuracy :', np.round(metrics.accuracy_score(y_val, max_y_pred_val),4) )\n",
    "print_confusion_matrix(y_test,max_y_pred_test)\n",
    "print_performance_metrics(y_test,max_y_pred_test)"
   ]
  },
  {
   "cell_type": "markdown",
   "metadata": {
    "colab_type": "text",
    "id": "DNsk1Qlj0pQs"
   },
   "source": [
    "### **SVM Classiier**"
   ]
  },
  {
   "cell_type": "code",
   "execution_count": 29,
   "metadata": {
    "colab": {
     "base_uri": "https://localhost:8080/",
     "height": 85
    },
    "colab_type": "code",
    "id": "HaaI1FSW0ydB",
    "outputId": "87246758-d18d-4b24-9fa4-0546d692cb1a"
   },
   "outputs": [
    {
     "name": "stderr",
     "output_type": "stream",
     "text": [
      "C:\\ProgramData\\Anaconda3\\lib\\site-packages\\sklearn\\svm\\base.py:193: FutureWarning: The default value of gamma will change from 'auto' to 'scale' in version 0.22 to account better for unscaled features. Set gamma explicitly to 'auto' or 'scale' to avoid this warning.\n",
      "  \"avoid this warning.\", FutureWarning)\n"
     ]
    },
    {
     "data": {
      "text/plain": [
       "SVC(C=1.0, cache_size=200, class_weight=None, coef0=0.0,\n",
       "    decision_function_shape='ovr', degree=3, gamma='auto_deprecated',\n",
       "    kernel='sigmoid', max_iter=-1, probability=False, random_state=0,\n",
       "    shrinking=True, tol=0.001, verbose=False)"
      ]
     },
     "execution_count": 29,
     "metadata": {},
     "output_type": "execute_result"
    }
   ],
   "source": [
    "from sklearn.svm import SVC\n",
    "model = SVC( kernel = 'sigmoid',random_state = 0)\n",
    "\n",
    "feat_train = model_feat.predict(X_train)\n",
    "feat_test = model_feat.predict(x_test)\n",
    "feat_val = model_feat.predict(x_val)\n",
    "model.fit(feat_train , y_train)"
   ]
  },
  {
   "cell_type": "code",
   "execution_count": 30,
   "metadata": {
    "colab": {
     "base_uri": "https://localhost:8080/",
     "height": 624
    },
    "colab_type": "code",
    "id": "MRYMru3G3cVJ",
    "outputId": "7a8282fc-8bc1-4b50-a747-c2724434a674"
   },
   "outputs": [
    {
     "name": "stdout",
     "output_type": "stream",
     "text": [
      "Training Accuracy : 0.5256\n",
      "Validation Accuracy : 0.4127\n"
     ]
    },
    {
     "data": {
      "image/png": "[encoded data removed]",
      "text/plain": [
       "<Figure size 432x288 with 2 Axes>"
      ]
     },
     "metadata": {
      "needs_background": "light"
     },
     "output_type": "display_data"
    },
    {
     "name": "stdout",
     "output_type": "stream",
     "text": [
      "Test Accuracy: 0.4429\n",
      "Precision: 0.4211\n",
      "Recall: 0.4429\n",
      "F1 Score: 0.3238\n",
      "ROC AUC: 0.4794407894736842\n",
      "              precision    recall  f1-score   support\n",
      "\n",
      "           0       0.45      0.91      0.60        32\n",
      "           1       0.40      0.05      0.09        38\n",
      "\n",
      "    accuracy                           0.44        70\n",
      "   macro avg       0.42      0.48      0.35        70\n",
      "weighted avg       0.42      0.44      0.32        70\n",
      "\n"
     ]
    }
   ],
   "source": [
    "y_pred_train = model.predict(feat_train)\n",
    "y_pred_test = model.predict(feat_test)\n",
    "y_pred_val = model.predict(feat_val)\n",
    "max_y_pred_train = np.round(y_pred_train)\n",
    "max_y_pred_test = np.round(y_pred_test)\n",
    "max_y_pred_val = np.round(y_pred_val)\n",
    "\n",
    "print('Training Accuracy :' , np.round(metrics.accuracy_score(y_train, max_y_pred_train),4))\n",
    "print('Validation Accuracy :', np.round(metrics.accuracy_score(y_val, max_y_pred_val),4) )\n",
    "print_confusion_matrix(y_test,max_y_pred_test)\n",
    "print_performance_metrics(y_test,max_y_pred_test)"
   ]
  },
  {
   "cell_type": "markdown",
   "metadata": {
    "colab_type": "text",
    "id": "E6XQsy6M1gYA"
   },
   "source": [
    "### **Random Forest Classifier**"
   ]
  },
  {
   "cell_type": "code",
   "execution_count": 31,
   "metadata": {
    "colab": {
     "base_uri": "https://localhost:8080/",
     "height": 153
    },
    "colab_type": "code",
    "id": "V-djJfHItXpG",
    "outputId": "9146a3d4-3403-4e8d-fbfb-684294ff3abe"
   },
   "outputs": [
    {
     "name": "stderr",
     "output_type": "stream",
     "text": [
      "C:\\ProgramData\\Anaconda3\\lib\\site-packages\\sklearn\\ensemble\\forest.py:245: FutureWarning: The default value of n_estimators will change from 10 in version 0.20 to 100 in 0.22.\n",
      "  \"10 in version 0.20 to 100 in 0.22.\", FutureWarning)\n"
     ]
    },
    {
     "data": {
      "text/plain": [
       "RandomForestClassifier(bootstrap=True, class_weight=None, criterion='gini',\n",
       "                       max_depth=None, max_features='auto', max_leaf_nodes=None,\n",
       "                       min_impurity_decrease=0.0, min_impurity_split=None,\n",
       "                       min_samples_leaf=1, min_samples_split=2,\n",
       "                       min_weight_fraction_leaf=0.0, n_estimators=10,\n",
       "                       n_jobs=None, oob_score=False, random_state=None,\n",
       "                       verbose=0, warm_start=False)"
      ]
     },
     "execution_count": 31,
     "metadata": {},
     "output_type": "execute_result"
    }
   ],
   "source": [
    "from sklearn.ensemble import RandomForestClassifier\n",
    "model = RandomForestClassifier()\n",
    "\n",
    "feat_train = model_feat.predict(X_train)\n",
    "feat_test = model_feat.predict(x_test)\n",
    "feat_val = model_feat.predict(x_val)\n",
    "model.fit(feat_train , y_train)"
   ]
  },
  {
   "cell_type": "code",
   "execution_count": 32,
   "metadata": {
    "colab": {
     "base_uri": "https://localhost:8080/",
     "height": 624
    },
    "colab_type": "code",
    "id": "S0aA1WI1zpN-",
    "outputId": "88a6d697-3e30-4451-f237-c20892c6b54e"
   },
   "outputs": [
    {
     "name": "stdout",
     "output_type": "stream",
     "text": [
      "Training Accuracy : 0.9453\n",
      "Validation Accuracy : 0.5079\n"
     ]
    },
    {
     "data": {
      "image/png": "[encoded data removed]",
      "text/plain": [
       "<Figure size 432x288 with 2 Axes>"
      ]
     },
     "metadata": {
      "needs_background": "light"
     },
     "output_type": "display_data"
    },
    {
     "name": "stdout",
     "output_type": "stream",
     "text": [
      "Test Accuracy: 0.5714\n",
      "Precision: 0.5799\n",
      "Recall: 0.5714\n",
      "F1 Score: 0.5714\n",
      "ROC AUC: 0.575657894736842\n",
      "              precision    recall  f1-score   support\n",
      "\n",
      "           0       0.53      0.62      0.57        32\n",
      "           1       0.62      0.53      0.57        38\n",
      "\n",
      "    accuracy                           0.57        70\n",
      "   macro avg       0.58      0.58      0.57        70\n",
      "weighted avg       0.58      0.57      0.57        70\n",
      "\n"
     ]
    }
   ],
   "source": [
    "y_pred_train = model.predict(feat_train)\n",
    "y_pred_test = model.predict(feat_test)\n",
    "y_pred_val = model.predict(feat_val)\n",
    "max_y_pred_train = np.round(y_pred_train)\n",
    "max_y_pred_test = np.round(y_pred_test)\n",
    "max_y_pred_val = np.round(y_pred_val)\n",
    "\n",
    "print('Training Accuracy :' , np.round(metrics.accuracy_score(y_train, max_y_pred_train),4))\n",
    "print('Validation Accuracy :', np.round(metrics.accuracy_score(y_val, max_y_pred_val),4) )\n",
    "print_confusion_matrix(y_test,max_y_pred_test)\n",
    "print_performance_metrics(y_test,max_y_pred_test)"
   ]
  },
  {
   "cell_type": "markdown",
   "metadata": {
    "colab_type": "text",
    "id": "xiTVg4nM36De"
   },
   "source": [
    "### **AdaBoost Classifier**"
   ]
  },
  {
   "cell_type": "code",
   "execution_count": 34,
   "metadata": {
    "colab": {
     "base_uri": "https://localhost:8080/",
     "height": 51
    },
    "colab_type": "code",
    "id": "ZKgXFl9U4BNQ",
    "outputId": "50dc2331-fcd0-4e2f-bbfc-302e329ced88"
   },
   "outputs": [
    {
     "data": {
      "text/plain": [
       "AdaBoostClassifier(algorithm='SAMME.R', base_estimator=None, learning_rate=1.0,\n",
       "                   n_estimators=50, random_state=None)"
      ]
     },
     "execution_count": 34,
     "metadata": {},
     "output_type": "execute_result"
    }
   ],
   "source": [
    "from sklearn.ensemble import AdaBoostClassifier\n",
    "model = AdaBoostClassifier()\n",
    "\n",
    "feat_train = model_feat.predict(X_train)\n",
    "feat_test = model_feat.predict(x_test)\n",
    "feat_val = model_feat.predict(x_val)\n",
    "model.fit(feat_train , y_train)"
   ]
  },
  {
   "cell_type": "code",
   "execution_count": 35,
   "metadata": {
    "colab": {
     "base_uri": "https://localhost:8080/",
     "height": 624
    },
    "colab_type": "code",
    "id": "U7sy0JMu4118",
    "outputId": "0ae8d8ee-db62-4ee5-a4c6-7b918df5c5a9"
   },
   "outputs": [
    {
     "name": "stdout",
     "output_type": "stream",
     "text": [
      "Training Accuracy : 0.6914\n",
      "Validation Accuracy : 0.619\n"
     ]
    },
    {
     "data": {
      "image/png": "[encoded data removed]",
      "text/plain": [
       "<Figure size 432x288 with 2 Axes>"
      ]
     },
     "metadata": {
      "needs_background": "light"
     },
     "output_type": "display_data"
    },
    {
     "name": "stdout",
     "output_type": "stream",
     "text": [
      "Test Accuracy: 0.5714\n",
      "Precision: 0.5838\n",
      "Recall: 0.5714\n",
      "F1 Score: 0.57\n",
      "ROC AUC: 0.578125\n",
      "              precision    recall  f1-score   support\n",
      "\n",
      "           0       0.53      0.66      0.58        32\n",
      "           1       0.63      0.50      0.56        38\n",
      "\n",
      "    accuracy                           0.57        70\n",
      "   macro avg       0.58      0.58      0.57        70\n",
      "weighted avg       0.58      0.57      0.57        70\n",
      "\n"
     ]
    }
   ],
   "source": [
    "y_pred_train = model.predict(feat_train)\n",
    "y_pred_test = model.predict(feat_test)\n",
    "y_pred_val = model.predict(feat_val)\n",
    "max_y_pred_train = np.round(y_pred_train)\n",
    "max_y_pred_test = np.round(y_pred_test)\n",
    "max_y_pred_val = np.round(y_pred_val)\n",
    "print('Training Accuracy :' , np.round(metrics.accuracy_score(y_train, max_y_pred_train),4))\n",
    "print('Validation Accuracy :', np.round(metrics.accuracy_score(y_val, max_y_pred_val),4) )\n",
    "print_confusion_matrix(y_test,max_y_pred_test)\n",
    "print_performance_metrics(y_test,max_y_pred_test)"
   ]
  },
  {
   "cell_type": "code",
   "execution_count": null,
   "metadata": {},
   "outputs": [],
   "source": []
  }
 ],
 "metadata": {
  "kernelspec": {
   "display_name": "Python 3",
   "language": "python",
   "name": "python3"
  },
  "language_info": {
   "codemirror_mode": {
    "name": "ipython",
    "version": 3
   },
   "file_extension": ".py",
   "mimetype": "text/x-python",
   "name": "python",
   "nbconvert_exporter": "python",
   "pygments_lexer": "ipython3",
   "version": "3.7.4"
  }
 },
 "nbformat": 4,
 "nbformat_minor": 2
}
